{
 "cells": [
  {
   "attachments": {},
   "cell_type": "markdown",
   "id": "c7e11a8e",
   "metadata": {},
   "source": []
  },
  {
   "cell_type": "code",
   "execution_count": 40,
   "id": "671eaf5b",
   "metadata": {},
   "outputs": [
    {
     "name": "stdout",
     "output_type": "stream",
     "text": [
      "Inwestycja na zakup mieszkania\n",
      "Jeśli planujesz zakup wymarzonego mieszkania bez kredytu, musisz zaplanować dłuższą inwestcyję.\n",
      "Mieszkanie warte obencie 120 tysięcy zł, za pięc lat przy 5% rocznej inflacji będzie kosztować 154003.04 zł\n",
      "Aby uzbierać taką kwotę przez ten okres, powinieneś wpłacać co miesiąc do banku na lokatę oprocentowaną 12% rocznie kwotę 1885.68 zł\n",
      "Wartość twojego mieszkania w ciągu 5 lat będzie co miesiąc przyrastać w nastęoujący sposób:\n",
      "[120500.   121002.08 121506.26 122012.54 122520.93 123031.43 123544.06\n",
      " 124058.83 124575.74 125094.81 125616.04 126139.44 126665.02 127192.79\n",
      " 127722.76 128254.94 128789.34 129325.96 129864.82 130405.92 130949.28\n",
      " 131494.9  132042.8  132592.98 133145.45 133700.22 134257.3  134816.71\n",
      " 135378.45 135942.53 136508.96 137077.75 137648.91 138222.45 138798.38\n",
      " 139376.71 139957.45 140540.61 141126.2  141714.23 142304.71 142897.65\n",
      " 143493.06 144090.95 144691.33 145294.21 145899.6  146507.51 147117.96\n",
      " 147730.95 148346.5  148964.61 149585.3  150208.57 150834.44 151462.92\n",
      " 152094.02 152727.74 153364.11 154003.13]\n"
     ]
    },
    {
     "ename": "TypeError",
     "evalue": "'numpy.float64' object is not iterable",
     "output_type": "error",
     "traceback": [
      "\u001b[1;31m---------------------------------------------------------------------------\u001b[0m",
      "\u001b[1;31mKeyError\u001b[0m                                  Traceback (most recent call last)",
      "File \u001b[1;32mc:\\Users\\ewajo\\AppData\\Local\\Programs\\Python\\Python310\\lib\\site-packages\\numpy_financial\\_financial.py:37\u001b[0m, in \u001b[0;36m_convert_when\u001b[1;34m(when)\u001b[0m\n\u001b[0;32m     36\u001b[0m \u001b[39mtry\u001b[39;00m:\n\u001b[1;32m---> 37\u001b[0m     \u001b[39mreturn\u001b[39;00m _when_to_num[when]\n\u001b[0;32m     38\u001b[0m \u001b[39mexcept\u001b[39;00m (\u001b[39mKeyError\u001b[39;00m, \u001b[39mTypeError\u001b[39;00m):\n",
      "\u001b[1;31mKeyError\u001b[0m: 154003.04",
      "\nDuring handling of the above exception, another exception occurred:\n",
      "\u001b[1;31mTypeError\u001b[0m                                 Traceback (most recent call last)",
      "Cell \u001b[1;32mIn[40], line 25\u001b[0m\n\u001b[0;32m     22\u001b[0m \u001b[39mprint\u001b[39m(\u001b[39m'\u001b[39m\u001b[39mWartość twojego mieszkania w ciągu 5 lat będzie co miesiąc przyrastać w nastęoujący sposób:\u001b[39m\u001b[39m'\u001b[39m)\n\u001b[0;32m     23\u001b[0m \u001b[39mprint\u001b[39m(future_value)\n\u001b[1;32m---> 25\u001b[0m payments \u001b[39m=\u001b[39m \u001b[39m-\u001b[39m np\u001b[39m.\u001b[39maround(npf\u001b[39m.\u001b[39;49mpmt(rate2\u001b[39m/\u001b[39;49m\u001b[39m12\u001b[39;49m,periods,nper,pv0, fv),\u001b[39m2\u001b[39m)\n\u001b[0;32m     26\u001b[0m cum_payments\u001b[39m=\u001b[39mnp\u001b[39m.\u001b[39mcumsum(payments)[:\u001b[39m60\u001b[39m]\n\u001b[0;32m     27\u001b[0m \u001b[39mprint\u001b[39m(\u001b[39m'\u001b[39m\u001b[39mTwoje wpłaty będę kumulowały się nastęoująco:\u001b[39m\u001b[39m'\u001b[39m)\n",
      "File \u001b[1;32mc:\\Users\\ewajo\\AppData\\Local\\Programs\\Python\\Python310\\lib\\site-packages\\numpy_financial\\_financial.py:219\u001b[0m, in \u001b[0;36mpmt\u001b[1;34m(rate, nper, pv, fv, when)\u001b[0m\n\u001b[0;32m    134\u001b[0m \u001b[39mdef\u001b[39;00m \u001b[39mpmt\u001b[39m(rate, nper, pv, fv\u001b[39m=\u001b[39m\u001b[39m0\u001b[39m, when\u001b[39m=\u001b[39m\u001b[39m'\u001b[39m\u001b[39mend\u001b[39m\u001b[39m'\u001b[39m):\n\u001b[0;32m    135\u001b[0m \u001b[39m    \u001b[39m\u001b[39m\"\"\"\u001b[39;00m\n\u001b[0;32m    136\u001b[0m \u001b[39m    Compute the payment against loan principal plus interest.\u001b[39;00m\n\u001b[0;32m    137\u001b[0m \n\u001b[1;32m   (...)\u001b[0m\n\u001b[0;32m    217\u001b[0m \n\u001b[0;32m    218\u001b[0m \u001b[39m    \"\"\"\u001b[39;00m\n\u001b[1;32m--> 219\u001b[0m     when \u001b[39m=\u001b[39m _convert_when(when)\n\u001b[0;32m    220\u001b[0m     (rate, nper, pv, fv, when) \u001b[39m=\u001b[39m \u001b[39mmap\u001b[39m(np\u001b[39m.\u001b[39marray, [rate, nper, pv, fv, when])\n\u001b[0;32m    221\u001b[0m     temp \u001b[39m=\u001b[39m (\u001b[39m1\u001b[39m \u001b[39m+\u001b[39m rate)\u001b[39m*\u001b[39m\u001b[39m*\u001b[39mnper\n",
      "File \u001b[1;32mc:\\Users\\ewajo\\AppData\\Local\\Programs\\Python\\Python310\\lib\\site-packages\\numpy_financial\\_financial.py:39\u001b[0m, in \u001b[0;36m_convert_when\u001b[1;34m(when)\u001b[0m\n\u001b[0;32m     37\u001b[0m     \u001b[39mreturn\u001b[39;00m _when_to_num[when]\n\u001b[0;32m     38\u001b[0m \u001b[39mexcept\u001b[39;00m (\u001b[39mKeyError\u001b[39;00m, \u001b[39mTypeError\u001b[39;00m):\n\u001b[1;32m---> 39\u001b[0m     \u001b[39mreturn\u001b[39;00m [_when_to_num[x] \u001b[39mfor\u001b[39;00m x \u001b[39min\u001b[39;00m when]\n",
      "\u001b[1;31mTypeError\u001b[0m: 'numpy.float64' object is not iterable"
     ]
    }
   ],
   "source": [
    "import numpy as np\n",
    "import numpy_financial as npf\n",
    "\n",
    "rate1=0.05\n",
    "rate2=0.12\n",
    "years=5\n",
    "pv = -120000\n",
    "pv0=0\n",
    "nper=60\n",
    "periods = np.arange(1,nper+1,dtype=int)\n",
    "print('Inwestycja na zakup mieszkania')\n",
    "print('Jeśli planujesz zakup wymarzonego mieszkania bez kredytu, musisz zaplanować dłuższą inwestcyję.')\n",
    "fv = np.around(npf.fv(rate1/12,nper,0,pv),2)\n",
    "print(f'Mieszkanie warte obencie 120 tysięcy zł, za pięc lat przy 5% rocznej inflacji będzie kosztować',fv,'zł')\n",
    "\n",
    "payment= np.around(-npf.pmt(rate2/12,nper,0,fv),2)\n",
    "print(f'Aby uzbierać taką kwotę przez ten okres, powinieneś wpłacać co miesiąc do banku na lokatę oprocentowaną 12% rocznie kwotę',payment,'zł')\n",
    "\n",
    "inflation_fv=np.around(npf.ipmt(rate1/12,periods,nper,pv,fv),2)\n",
    "cum_fv=np.cumsum(inflation_fv)[:60]\n",
    "future_value= -pv +cum_fv\n",
    "print('Wartość twojego mieszkania w ciągu 5 lat będzie co miesiąc przyrastać w nastęoujący sposób:')\n",
    "print(future_value)\n",
    "\n",
    "payments = - np.around(npf.pmt(rate2/12,periods,nper,pv0, fv),2)\n",
    "cum_payments=np.cumsum(payments)[:60]\n",
    "print('Twoje wpłaty będę kumulowały się nastęoująco:')\n",
    "print(payments)\n",
    "\n",
    "future_interests= np.around(-npf.ipmt(rate2/12,periods,nper,cum_payments),2)\n",
    "cum_interests=np.cumsum(future_interests)[:60]\n",
    "print('Twoje odsetki na lokacie będą rosły następująco:')\n",
    "print(cum_interests)\n",
    "\n",
    "future_payments= np.around(npf.ipmt(rate2/12,periods,nper,payment,fv),2)\n",
    "cum_fp=np.cumsum(future_payments)[:60]\n",
    "print('Wartość twojego mieszkania w ciągu 5 lat będzie co miesiąc przyrastać w nastęoujący sposób:\"')\n",
    "print(cum_fp)\n",
    "\n",
    "\n",
    "import matplotlib.pyplot as plt\n",
    "\n",
    "plt.plot(future_payments.cumsum(),label='wartość lokaty')\n",
    "plt.plot(future_value.cumsum(),label='wartość mieszkania')\n",
    "plt.legend()\n",
    "plt.xlabel('Liczba okresów')\n",
    "plt.ylabel('Skumulowana wartość w PLN')\n"
   ]
  },
  {
   "cell_type": "code",
   "execution_count": null,
   "id": "fcdf2545",
   "metadata": {},
   "outputs": [],
   "source": []
  },
  {
   "cell_type": "code",
   "execution_count": null,
   "id": "06f07d40",
   "metadata": {},
   "outputs": [],
   "source": []
  }
 ],
 "metadata": {
  "kernelspec": {
   "display_name": "Python 3 (ipykernel)",
   "language": "python",
   "name": "python3"
  },
  "language_info": {
   "codemirror_mode": {
    "name": "ipython",
    "version": 3
   },
   "file_extension": ".py",
   "mimetype": "text/x-python",
   "name": "python",
   "nbconvert_exporter": "python",
   "pygments_lexer": "ipython3",
   "version": "3.10.10"
  }
 },
 "nbformat": 4,
 "nbformat_minor": 5
}
